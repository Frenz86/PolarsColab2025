{
 "cells": [
  {
   "cell_type": "markdown",
   "metadata": {},
   "source": [
    "## Lazy Dataframes"
   ]
  },
  {
   "cell_type": "code",
   "execution_count": 1,
   "metadata": {},
   "outputs": [
    {
     "name": "stdout",
     "output_type": "stream",
     "text": [
      "1.23.0\n"
     ]
    }
   ],
   "source": [
    "import polars as pl\n",
    "import numpy as np\n",
    "from datetime import datetime\n",
    "\n",
    "print(pl.__version__)"
   ]
  },
  {
   "cell_type": "code",
   "execution_count": 2,
   "metadata": {},
   "outputs": [
    {
     "data": {
      "text/html": [
       "<div><style>\n",
       ".dataframe > thead > tr,\n",
       ".dataframe > tbody > tr {\n",
       "  text-align: right;\n",
       "  white-space: pre-wrap;\n",
       "}\n",
       "</style>\n",
       "<small>shape: (2, 2)</small><table border=\"1\" class=\"dataframe\"><thead><tr><th>a</th><th>b</th></tr><tr><td>i64</td><td>i64</td></tr></thead><tbody><tr><td>1</td><td>3</td></tr><tr><td>2</td><td>4</td></tr></tbody></table></div>"
      ],
      "text/plain": [
       "shape: (2, 2)\n",
       "┌─────┬─────┐\n",
       "│ a   ┆ b   │\n",
       "│ --- ┆ --- │\n",
       "│ i64 ┆ i64 │\n",
       "╞═════╪═════╡\n",
       "│ 1   ┆ 3   │\n",
       "│ 2   ┆ 4   │\n",
       "└─────┴─────┘"
      ]
     },
     "execution_count": 2,
     "metadata": {},
     "output_type": "execute_result"
    }
   ],
   "source": [
    "data = {\"a\": [1, 2], \"b\": [3, 4]}\n",
    "lf = pl.LazyFrame(data)\n",
    "lf.collect()"
   ]
  },
  {
   "cell_type": "code",
   "execution_count": 3,
   "metadata": {},
   "outputs": [
    {
     "data": {
      "text/html": [
       "<div><style>\n",
       ".dataframe > thead > tr,\n",
       ".dataframe > tbody > tr {\n",
       "  text-align: right;\n",
       "  white-space: pre-wrap;\n",
       "}\n",
       "</style>\n",
       "<small>shape: (2, 2)</small><table border=\"1\" class=\"dataframe\"><thead><tr><th>a</th><th>b</th></tr><tr><td>i64</td><td>i64</td></tr></thead><tbody><tr><td>1</td><td>3</td></tr><tr><td>2</td><td>4</td></tr></tbody></table></div>"
      ],
      "text/plain": [
       "shape: (2, 2)\n",
       "┌─────┬─────┐\n",
       "│ a   ┆ b   │\n",
       "│ --- ┆ --- │\n",
       "│ i64 ┆ i64 │\n",
       "╞═════╪═════╡\n",
       "│ 1   ┆ 3   │\n",
       "│ 2   ┆ 4   │\n",
       "└─────┴─────┘"
      ]
     },
     "execution_count": 3,
     "metadata": {},
     "output_type": "execute_result"
    }
   ],
   "source": [
    "import numpy as np\n",
    "data = np.array([(1, 2), (3, 4)], dtype=np.int64)\n",
    "lf = pl.LazyFrame(data, schema=[\"a\", \"b\"], orient=\"col\")\n",
    "lf.collect()"
   ]
  },
  {
   "cell_type": "code",
   "execution_count": 4,
   "metadata": {},
   "outputs": [
    {
     "data": {
      "text/html": [
       "<div><style>\n",
       ".dataframe > thead > tr,\n",
       ".dataframe > tbody > tr {\n",
       "  text-align: right;\n",
       "  white-space: pre-wrap;\n",
       "}\n",
       "</style>\n",
       "<small>shape: (1_000, 4)</small><table border=\"1\" class=\"dataframe\"><thead><tr><th>id</th><th>category</th><th>value</th><th>timestamp</th></tr><tr><td>i64</td><td>str</td><td>f64</td><td>date</td></tr></thead><tbody><tr><td>0</td><td>&quot;B&quot;</td><td>82.898673</td><td>2021-01-01</td></tr><tr><td>1</td><td>&quot;B&quot;</td><td>84.499103</td><td>2021-01-02</td></tr><tr><td>2</td><td>&quot;A&quot;</td><td>155.260731</td><td>2021-01-03</td></tr><tr><td>3</td><td>&quot;A&quot;</td><td>100.961617</td><td>2021-01-04</td></tr><tr><td>4</td><td>&quot;C&quot;</td><td>90.672281</td><td>2021-01-05</td></tr><tr><td>&hellip;</td><td>&hellip;</td><td>&hellip;</td><td>&hellip;</td></tr><tr><td>995</td><td>&quot;A&quot;</td><td>113.78793</td><td>2023-09-23</td></tr><tr><td>996</td><td>&quot;A&quot;</td><td>73.847408</td><td>2023-09-24</td></tr><tr><td>997</td><td>&quot;B&quot;</td><td>106.75135</td><td>2023-09-25</td></tr><tr><td>998</td><td>&quot;B&quot;</td><td>129.899507</td><td>2023-09-26</td></tr><tr><td>999</td><td>&quot;B&quot;</td><td>92.26463</td><td>2023-09-27</td></tr></tbody></table></div>"
      ],
      "text/plain": [
       "shape: (1_000, 4)\n",
       "┌─────┬──────────┬────────────┬────────────┐\n",
       "│ id  ┆ category ┆ value      ┆ timestamp  │\n",
       "│ --- ┆ ---      ┆ ---        ┆ ---        │\n",
       "│ i64 ┆ str      ┆ f64        ┆ date       │\n",
       "╞═════╪══════════╪════════════╪════════════╡\n",
       "│ 0   ┆ B        ┆ 82.898673  ┆ 2021-01-01 │\n",
       "│ 1   ┆ B        ┆ 84.499103  ┆ 2021-01-02 │\n",
       "│ 2   ┆ A        ┆ 155.260731 ┆ 2021-01-03 │\n",
       "│ 3   ┆ A        ┆ 100.961617 ┆ 2021-01-04 │\n",
       "│ 4   ┆ C        ┆ 90.672281  ┆ 2021-01-05 │\n",
       "│ …   ┆ …        ┆ …          ┆ …          │\n",
       "│ 995 ┆ A        ┆ 113.78793  ┆ 2023-09-23 │\n",
       "│ 996 ┆ A        ┆ 73.847408  ┆ 2023-09-24 │\n",
       "│ 997 ┆ B        ┆ 106.75135  ┆ 2023-09-25 │\n",
       "│ 998 ┆ B        ┆ 129.899507 ┆ 2023-09-26 │\n",
       "│ 999 ┆ B        ┆ 92.26463   ┆ 2023-09-27 │\n",
       "└─────┴──────────┴────────────┴────────────┘"
      ]
     },
     "execution_count": 4,
     "metadata": {},
     "output_type": "execute_result"
    }
   ],
   "source": [
    "import polars as pl\n",
    "import numpy as np\n",
    "from datetime import datetime, date, timedelta\n",
    "\n",
    "# Create date range using timedelta\n",
    "date_range = pl.date_range(\n",
    "                            date(2021, 1, 1),\n",
    "                            date(2023, 12, 31),\n",
    "                            timedelta(days=1),\n",
    "                            eager=True\n",
    "                            ).alias(\"timestamp\").to_list()\n",
    "\n",
    "# Create a sample DataFrame\n",
    "df = pl.DataFrame({\n",
    "                    'id': range(1000),\n",
    "                    'category': np.random.choice(['A', 'B', 'C'], 1000),\n",
    "                    'value': np.random.normal(100, 15, 1000),\n",
    "                    'timestamp': date_range[:1000]  # Take first 1000 dates to match other columns\n",
    "                    })\n",
    "df"
   ]
  },
  {
   "cell_type": "code",
   "execution_count": 5,
   "metadata": {},
   "outputs": [
    {
     "data": {
      "text/html": [
       "<h4>NAIVE QUERY PLAN</h4><p>run <b>LazyFrame.show_graph()</b> to see the optimized version</p><?xml version=\"1.0\" encoding=\"UTF-8\" standalone=\"no\"?>\r\n",
       "<!DOCTYPE svg PUBLIC \"-//W3C//DTD SVG 1.1//EN\"\r\n",
       " \"http://www.w3.org/Graphics/SVG/1.1/DTD/svg11.dtd\">\r\n",
       "<!-- Generated by graphviz version 12.2.1 (20241206.2353)\r\n",
       " -->\r\n",
       "<!-- Title: polars_query Pages: 1 -->\r\n",
       "<svg width=\"67pt\" height=\"49pt\"\r\n",
       " viewBox=\"0.00 0.00 66.75 49.00\" xmlns=\"http://www.w3.org/2000/svg\" xmlns:xlink=\"http://www.w3.org/1999/xlink\">\r\n",
       "<g id=\"graph0\" class=\"graph\" transform=\"scale(1 1) rotate(0) translate(4 45)\">\r\n",
       "<title>polars_query</title>\r\n",
       "<polygon fill=\"white\" stroke=\"none\" points=\"-4,4 -4,-45 62.75,-45 62.75,4 -4,4\"/>\r\n",
       "<!-- p1 -->\r\n",
       "<g id=\"node1\" class=\"node\">\r\n",
       "<title>p1</title>\r\n",
       "<polygon fill=\"none\" stroke=\"black\" points=\"58.75,-41 0,-41 0,0 58.75,0 58.75,-41\"/>\r\n",
       "<text text-anchor=\"middle\" x=\"29.38\" y=\"-23.7\" font-family=\"Times New Roman,serif\" font-size=\"14.00\">TABLE</text>\r\n",
       "<text text-anchor=\"middle\" x=\"29.38\" y=\"-7.2\" font-family=\"Times New Roman,serif\" font-size=\"14.00\">π */4</text>\r\n",
       "</g>\r\n",
       "</g>\r\n",
       "</svg>\r\n"
      ],
      "text/plain": [
       "<LazyFrame at 0x297BDDF6890>"
      ]
     },
     "execution_count": 5,
     "metadata": {},
     "output_type": "execute_result"
    }
   ],
   "source": [
    "# Convert to lazy DataFrame\n",
    "lazy_df = df.lazy()\n",
    "lazy_df"
   ]
  },
  {
   "cell_type": "code",
   "execution_count": 6,
   "metadata": {},
   "outputs": [
    {
     "name": "stdout",
     "output_type": "stream",
     "text": [
      "Optimization Plan:\n",
      "naive plan: (run LazyFrame.explain(optimized=True) to see the optimized plan)\n",
      "\n",
      "SORT BY [col(\"category\")]\n",
      "  AGGREGATE\n",
      "  \t[col(\"value\").mean().alias(\"avg_value\"), col(\"value\").std().alias(\"std_value\"), col(\"id\").count().alias(\"count\")] BY [col(\"category\")] FROM\n",
      "    FILTER col(\"category\").is_in([Series]) FROM\n",
      "       WITH_COLUMNS:\n",
      "       [col(\"value\").rolling_mean().alias(\"rolling_avg\"), col(\"value\").shift([dyn int: 1]).alias(\"prev_value\")] \n",
      "        DF [\"id\", \"category\", \"value\", \"timestamp\"]; PROJECT */4 COLUMNS\n"
     ]
    }
   ],
   "source": [
    "# Complex transformation pipeline\n",
    "transformed_lazy = (\n",
    "    lazy_df\n",
    "    .with_columns([\n",
    "        pl.col('value').rolling_mean(7).alias('rolling_avg'),\n",
    "        pl.col('value').shift().alias('prev_value')\n",
    "    ])\n",
    "    .filter(pl.col('category').is_in(['A', 'B']))\n",
    "    .group_by('category')\n",
    "    .agg([\n",
    "        pl.col('value').mean().alias('avg_value'),\n",
    "        pl.col('value').std().alias('std_value'),\n",
    "        pl.col('id').count().alias('count')\n",
    "    ])\n",
    "    .sort('category')\n",
    ")\n",
    "\n",
    "# Examine the optimization plan\n",
    "print(\"Optimization Plan:\")\n",
    "print(transformed_lazy)\n"
   ]
  },
  {
   "cell_type": "code",
   "execution_count": 7,
   "metadata": {},
   "outputs": [
    {
     "data": {
      "text/html": [
       "<h4>NAIVE QUERY PLAN</h4><p>run <b>LazyFrame.show_graph()</b> to see the optimized version</p><?xml version=\"1.0\" encoding=\"UTF-8\" standalone=\"no\"?>\r\n",
       "<!DOCTYPE svg PUBLIC \"-//W3C//DTD SVG 1.1//EN\"\r\n",
       " \"http://www.w3.org/Graphics/SVG/1.1/DTD/svg11.dtd\">\r\n",
       "<!-- Generated by graphviz version 12.2.1 (20241206.2353)\r\n",
       " -->\r\n",
       "<!-- Title: polars_query Pages: 1 -->\r\n",
       "<svg width=\"320pt\" height=\"265pt\"\r\n",
       " viewBox=\"0.00 0.00 319.50 265.00\" xmlns=\"http://www.w3.org/2000/svg\" xmlns:xlink=\"http://www.w3.org/1999/xlink\">\r\n",
       "<g id=\"graph0\" class=\"graph\" transform=\"scale(1 1) rotate(0) translate(4 261)\">\r\n",
       "<title>polars_query</title>\r\n",
       "<polygon fill=\"white\" stroke=\"none\" points=\"-4,4 -4,-261 315.5,-261 315.5,4 -4,4\"/>\r\n",
       "<!-- p1 -->\r\n",
       "<g id=\"node1\" class=\"node\">\r\n",
       "<title>p1</title>\r\n",
       "<polygon fill=\"none\" stroke=\"black\" points=\"182.75,-257 128.75,-257 128.75,-221 182.75,-221 182.75,-257\"/>\r\n",
       "<text text-anchor=\"middle\" x=\"155.75\" y=\"-233.95\" font-family=\"Times New Roman,serif\" font-size=\"14.00\">π 2/2</text>\r\n",
       "</g>\r\n",
       "<!-- p2 -->\r\n",
       "<g id=\"node2\" class=\"node\">\r\n",
       "<title>p2</title>\r\n",
       "<polygon fill=\"none\" stroke=\"black\" points=\"311.5,-185 0,-185 0,-149 311.5,-149 311.5,-185\"/>\r\n",
       "<text text-anchor=\"middle\" x=\"155.75\" y=\"-161.95\" font-family=\"Times New Roman,serif\" font-size=\"14.00\">WITH COLUMNS [col(&quot;value&quot;).alias(&quot;high_value&quot;)]</text>\r\n",
       "</g>\r\n",
       "<!-- p1&#45;&#45;p2 -->\r\n",
       "<g id=\"edge1\" class=\"edge\">\r\n",
       "<title>p1&#45;&#45;p2</title>\r\n",
       "<path fill=\"none\" stroke=\"black\" d=\"M155.75,-220.7C155.75,-209.85 155.75,-195.92 155.75,-185.1\"/>\r\n",
       "</g>\r\n",
       "<!-- p3 -->\r\n",
       "<g id=\"node3\" class=\"node\">\r\n",
       "<title>p3</title>\r\n",
       "<polygon fill=\"none\" stroke=\"black\" points=\"269.5,-113 42,-113 42,-77 269.5,-77 269.5,-113\"/>\r\n",
       "<text text-anchor=\"middle\" x=\"155.75\" y=\"-89.95\" font-family=\"Times New Roman,serif\" font-size=\"14.00\">FILTER BY [(col(&quot;value&quot;)) &gt; (100.0)]</text>\r\n",
       "</g>\r\n",
       "<!-- p2&#45;&#45;p3 -->\r\n",
       "<g id=\"edge2\" class=\"edge\">\r\n",
       "<title>p2&#45;&#45;p3</title>\r\n",
       "<path fill=\"none\" stroke=\"black\" d=\"M155.75,-148.7C155.75,-137.85 155.75,-123.92 155.75,-113.1\"/>\r\n",
       "</g>\r\n",
       "<!-- p4 -->\r\n",
       "<g id=\"node4\" class=\"node\">\r\n",
       "<title>p4</title>\r\n",
       "<polygon fill=\"none\" stroke=\"black\" points=\"185.12,-41 126.38,-41 126.38,0 185.12,0 185.12,-41\"/>\r\n",
       "<text text-anchor=\"middle\" x=\"155.75\" y=\"-23.7\" font-family=\"Times New Roman,serif\" font-size=\"14.00\">TABLE</text>\r\n",
       "<text text-anchor=\"middle\" x=\"155.75\" y=\"-7.2\" font-family=\"Times New Roman,serif\" font-size=\"14.00\">π */4</text>\r\n",
       "</g>\r\n",
       "<!-- p3&#45;&#45;p4 -->\r\n",
       "<g id=\"edge3\" class=\"edge\">\r\n",
       "<title>p3&#45;&#45;p4</title>\r\n",
       "<path fill=\"none\" stroke=\"black\" d=\"M155.75,-76.82C155.75,-66.18 155.75,-52.49 155.75,-41.38\"/>\r\n",
       "</g>\r\n",
       "</g>\r\n",
       "</svg>\r\n"
      ],
      "text/plain": [
       "<LazyFrame at 0x297E82FDE50>"
      ]
     },
     "execution_count": 7,
     "metadata": {},
     "output_type": "execute_result"
    }
   ],
   "source": [
    "filtered_lazy = (\n",
    "                df.lazy()\n",
    "                .filter(pl.col('value') > 100)\n",
    "                .with_columns(pl.col('value').alias('high_value'))\n",
    "                .select(['category', 'high_value'])\n",
    "                )\n",
    "filtered_lazy"
   ]
  },
  {
   "cell_type": "code",
   "execution_count": 8,
   "metadata": {},
   "outputs": [
    {
     "data": {
      "text/html": [
       "<h4>NAIVE QUERY PLAN</h4><p>run <b>LazyFrame.show_graph()</b> to see the optimized version</p><?xml version=\"1.0\" encoding=\"UTF-8\" standalone=\"no\"?>\r\n",
       "<!DOCTYPE svg PUBLIC \"-//W3C//DTD SVG 1.1//EN\"\r\n",
       " \"http://www.w3.org/Graphics/SVG/1.1/DTD/svg11.dtd\">\r\n",
       "<!-- Generated by graphviz version 12.2.1 (20241206.2353)\r\n",
       " -->\r\n",
       "<!-- Title: polars_query Pages: 1 -->\r\n",
       "<svg width=\"150pt\" height=\"215pt\"\r\n",
       " viewBox=\"0.00 0.00 150.00 214.50\" xmlns=\"http://www.w3.org/2000/svg\" xmlns:xlink=\"http://www.w3.org/1999/xlink\">\r\n",
       "<g id=\"graph0\" class=\"graph\" transform=\"scale(1 1) rotate(0) translate(4 210.5)\">\r\n",
       "<title>polars_query</title>\r\n",
       "<polygon fill=\"white\" stroke=\"none\" points=\"-4,4 -4,-210.5 146,-210.5 146,4 -4,4\"/>\r\n",
       "<!-- p1 -->\r\n",
       "<g id=\"node1\" class=\"node\">\r\n",
       "<title>p1</title>\r\n",
       "<polygon fill=\"none\" stroke=\"black\" points=\"98,-206.5 44,-206.5 44,-170.5 98,-170.5 98,-206.5\"/>\r\n",
       "<text text-anchor=\"middle\" x=\"71\" y=\"-183.45\" font-family=\"Times New Roman,serif\" font-size=\"14.00\">π 3/3</text>\r\n",
       "</g>\r\n",
       "<!-- p2 -->\r\n",
       "<g id=\"node2\" class=\"node\">\r\n",
       "<title>p2</title>\r\n",
       "<polygon fill=\"none\" stroke=\"black\" points=\"142,-134.5 0,-134.5 0,-77 142,-77 142,-134.5\"/>\r\n",
       "<text text-anchor=\"middle\" x=\"71\" y=\"-117.2\" font-family=\"Times New Roman,serif\" font-size=\"14.00\">JOIN LEFT</text>\r\n",
       "<text text-anchor=\"middle\" x=\"71\" y=\"-100.7\" font-family=\"Times New Roman,serif\" font-size=\"14.00\">left: [col(&quot;category&quot;)];</text>\r\n",
       "<text text-anchor=\"middle\" x=\"71\" y=\"-84.2\" font-family=\"Times New Roman,serif\" font-size=\"14.00\">right: [col(&quot;category&quot;)]</text>\r\n",
       "</g>\r\n",
       "<!-- p1&#45;&#45;p2 -->\r\n",
       "<g id=\"edge1\" class=\"edge\">\r\n",
       "<title>p1&#45;&#45;p2</title>\r\n",
       "<path fill=\"none\" stroke=\"black\" d=\"M71,-170.38C71,-160.1 71,-146.77 71,-134.97\"/>\r\n",
       "</g>\r\n",
       "<!-- p3 -->\r\n",
       "<g id=\"node3\" class=\"node\">\r\n",
       "<title>p3</title>\r\n",
       "<polygon fill=\"none\" stroke=\"black\" points=\"62.38,-41 3.62,-41 3.62,0 62.38,0 62.38,-41\"/>\r\n",
       "<text text-anchor=\"middle\" x=\"33\" y=\"-23.7\" font-family=\"Times New Roman,serif\" font-size=\"14.00\">TABLE</text>\r\n",
       "<text text-anchor=\"middle\" x=\"33\" y=\"-7.2\" font-family=\"Times New Roman,serif\" font-size=\"14.00\">π */4</text>\r\n",
       "</g>\r\n",
       "<!-- p2&#45;&#45;p3 -->\r\n",
       "<g id=\"edge2\" class=\"edge\">\r\n",
       "<title>p2&#45;&#45;p3</title>\r\n",
       "<path fill=\"none\" stroke=\"black\" d=\"M58.13,-76.57C52.84,-64.96 46.83,-51.8 42.01,-41.25\"/>\r\n",
       "</g>\r\n",
       "<!-- p4 -->\r\n",
       "<g id=\"node4\" class=\"node\">\r\n",
       "<title>p4</title>\r\n",
       "<polygon fill=\"none\" stroke=\"black\" points=\"139.38,-41 80.62,-41 80.62,0 139.38,0 139.38,-41\"/>\r\n",
       "<text text-anchor=\"middle\" x=\"110\" y=\"-23.7\" font-family=\"Times New Roman,serif\" font-size=\"14.00\">TABLE</text>\r\n",
       "<text text-anchor=\"middle\" x=\"110\" y=\"-7.2\" font-family=\"Times New Roman,serif\" font-size=\"14.00\">π */2</text>\r\n",
       "</g>\r\n",
       "<!-- p2&#45;&#45;p4 -->\r\n",
       "<g id=\"edge3\" class=\"edge\">\r\n",
       "<title>p2&#45;&#45;p4</title>\r\n",
       "<path fill=\"none\" stroke=\"black\" d=\"M84.2,-76.57C89.64,-64.96 95.81,-51.8 100.75,-41.25\"/>\r\n",
       "</g>\r\n",
       "</g>\r\n",
       "</svg>\r\n"
      ],
      "text/plain": [
       "<LazyFrame at 0x297E8053810>"
      ]
     },
     "execution_count": 8,
     "metadata": {},
     "output_type": "execute_result"
    }
   ],
   "source": [
    "# Example of lazy joins\n",
    "other_df = pl.DataFrame({\n",
    "    'category': ['A', 'B', 'C'],\n",
    "    'category_name': ['Alpha', 'Beta', 'Gamma']\n",
    "})\n",
    "\n",
    "joined_lazy = (\n",
    "    df.lazy()\n",
    "    .join(\n",
    "        other_df.lazy(),\n",
    "        on='category',\n",
    "        how='left'\n",
    "    )\n",
    "    .select([\n",
    "        'id',\n",
    "        'category_name',\n",
    "        'value'\n",
    "    ])\n",
    ")\n",
    "joined_lazy"
   ]
  },
  {
   "cell_type": "code",
   "execution_count": 9,
   "metadata": {},
   "outputs": [
    {
     "data": {
      "text/html": [
       "<div><style>\n",
       ".dataframe > thead > tr,\n",
       ".dataframe > tbody > tr {\n",
       "  text-align: right;\n",
       "  white-space: pre-wrap;\n",
       "}\n",
       "</style>\n",
       "<small>shape: (12, 2)</small><table border=\"1\" class=\"dataframe\"><thead><tr><th>month</th><th>days_in_month</th></tr><tr><td>i8</td><td>u32</td></tr></thead><tbody><tr><td>1</td><td>31</td></tr><tr><td>2</td><td>29</td></tr><tr><td>3</td><td>31</td></tr><tr><td>4</td><td>30</td></tr><tr><td>5</td><td>31</td></tr><tr><td>&hellip;</td><td>&hellip;</td></tr><tr><td>8</td><td>31</td></tr><tr><td>9</td><td>30</td></tr><tr><td>10</td><td>31</td></tr><tr><td>11</td><td>30</td></tr><tr><td>12</td><td>31</td></tr></tbody></table></div>"
      ],
      "text/plain": [
       "shape: (12, 2)\n",
       "┌───────┬───────────────┐\n",
       "│ month ┆ days_in_month │\n",
       "│ ---   ┆ ---           │\n",
       "│ i8    ┆ u32           │\n",
       "╞═══════╪═══════════════╡\n",
       "│ 1     ┆ 31            │\n",
       "│ 2     ┆ 29            │\n",
       "│ 3     ┆ 31            │\n",
       "│ 4     ┆ 30            │\n",
       "│ 5     ┆ 31            │\n",
       "│ …     ┆ …             │\n",
       "│ 8     ┆ 31            │\n",
       "│ 9     ┆ 30            │\n",
       "│ 10    ┆ 31            │\n",
       "│ 11    ┆ 30            │\n",
       "│ 12    ┆ 31            │\n",
       "└───────┴───────────────┘"
      ]
     },
     "execution_count": 9,
     "metadata": {},
     "output_type": "execute_result"
    }
   ],
   "source": [
    "from datetime import date\n",
    "import polars as pl\n",
    "\n",
    "(pl.date_range(\n",
    "            start=date(2024, 1, 1),\n",
    "            end=date(2025, 1, 1),\n",
    "            interval=\"1d\",\n",
    "            closed=\"left\",  # Don't include `end`\n",
    "            eager=True,\n",
    "            ).to_frame(\"d\")\n",
    "            .group_by_dynamic(\"d\", every=\"1mo\")\n",
    "            .agg(pl.len().alias(\"days_in_month\"))\n",
    "            .select(\n",
    "                pl.col(\"d\").dt.month().alias(\"month\"),\n",
    "                pl.col(\"days_in_month\"),\n",
    "            ))"
   ]
  },
  {
   "cell_type": "code",
   "execution_count": null,
   "metadata": {},
   "outputs": [],
   "source": []
  },
  {
   "cell_type": "code",
   "execution_count": null,
   "metadata": {},
   "outputs": [],
   "source": []
  }
 ],
 "metadata": {
  "kernelspec": {
   "display_name": "Python 3",
   "language": "python",
   "name": "python3"
  },
  "language_info": {
   "codemirror_mode": {
    "name": "ipython",
    "version": 3
   },
   "file_extension": ".py",
   "mimetype": "text/x-python",
   "name": "python",
   "nbconvert_exporter": "python",
   "pygments_lexer": "ipython3",
   "version": "3.11.9"
  }
 },
 "nbformat": 4,
 "nbformat_minor": 2
}
